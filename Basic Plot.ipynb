{
 "cells": [
  {
   "cell_type": "code",
   "execution_count": 34,
   "metadata": {},
   "outputs": [
    {
     "name": "stdout",
     "output_type": "stream",
     "text": [
      "Done\n"
     ]
    }
   ],
   "source": [
    "import csv\n",
    "import numpy as np\n",
    "from mpl_toolkits.basemap import Basemap\n",
    "import matplotlib.pyplot as plt\n",
    "from matplotlib.colors import LinearSegmentedColormap\n",
    "\n",
    "from __future__ import (absolute_import, division, print_function)\n",
    "\n",
    "\n",
    "def draw_map_background(m, ax):\n",
    "    ax.set_facecolor('#729FCF')\n",
    "    m.fillcontinents(color='#FFEFDB', ax=ax, zorder=0)\n",
    "    m.drawcounties(ax=ax)\n",
    "    m.drawstates(ax=ax)\n",
    "    m.drawcountries(ax=ax)\n",
    "    m.drawcoastlines(ax=ax)\n",
    "KM = 1000.\n",
    "clat = 39.3\n",
    "clon = -94.7333\n",
    "wid = 5500 * KM\n",
    "hgt = 3500 * KM\n",
    "\n",
    "#m= Basemap(llcrnrlon=-129.098907,llcrnrlat=22.700324,urcrnrlon=-65.553985,urcrnrlat=52.177390,\n",
    "#             resolution='i', projection='lcc', lat_0 = 37.697948, lon_0 = -97.314835)\n",
    "#m = Basemap(width=wid, height=hgt, rsphere=(6378137.00,6356752.3142),\n",
    "#            resolution='i', area_thresh=2500., projection='lcc',\n",
    "#            lon_0=-110.428794,lat_0=46.998846)\n",
    "#m  = Basemap(projection='lcc',lon_0=-110.428794,lat_0=46.998846,resolution='i',\\\n",
    "#             llcrnrx=-800*600,llcrnry=-800*400,\n",
    "#            urcrnrx=+600*900,urcrnry=+450*600)\n",
    "\n",
    "\n",
    "lats, lons = [], []\n",
    "county='Gallatin'\n",
    "with open('/Users/usmp/Google Drive/Saidur_Matt_Term_Project/'+county+'_alldata.csv') as f:\n",
    "    reader = csv.reader(f)\n",
    "    next(reader) # Ignore the header row.\n",
    "    for row in reader:\n",
    "        lat = float(row[15])\n",
    "        lon = float(row[16])\n",
    "        # filter lat,lons to (approximate) map view:\n",
    "        lats.append( lat )\n",
    "        lons.append( lon )\n",
    "'''\n",
    "#For Gallatin\n",
    "min_lat =  44.06338\n",
    "max_lat = 46.200085\n",
    "min_lon = -111.891\n",
    "max_lon = -110.5396\n",
    "'''\n",
    "m = Basemap(lon_0=-111.428794,lat_0=44.998846,llcrnrlat = min_lat, urcrnrlat = max_lat, llcrnrlon = min_lon, urcrnrlon=max_lon, resolution='l', fix_aspect = False)\n",
    "fig = plt.figure()\n",
    "ax = fig.add_subplot(111)\n",
    "#print(lats)\n",
    "#print (lons)\n",
    "# define custom colormap, white -> nicered, #E6072A = RGB(0.9,0.03,0.16)\n",
    "#plt.clim([0,100])\n",
    "# translucent blue scatter plot of epicenters above histogram:    \n",
    "x,y = m(lons, lats)\n",
    "m.plot(x, y, 'o', markersize=5,zorder=6, markerfacecolor='Red',markeredgecolor=\"none\", alpha=0.33)\n",
    "draw_map_background(m, ax)\n",
    "plt.title(county+' Basic Plot')\n",
    "plt.gcf().set_size_inches(15,15)\n",
    "\n",
    "#plt.show()\n",
    "plt.savefig('/Users/usmp/Google Drive/Saidur_Matt_Term_Project/'+county+'CrashData(Basic).jpg')\n",
    "plt.close()\n",
    "print(\"Done\")"
   ]
  },
  {
   "cell_type": "markdown",
   "metadata": {},
   "source": []
  },
  {
   "cell_type": "code",
   "execution_count": null,
   "metadata": {},
   "outputs": [],
   "source": []
  },
  {
   "cell_type": "code",
   "execution_count": null,
   "metadata": {},
   "outputs": [],
   "source": []
  },
  {
   "cell_type": "code",
   "execution_count": null,
   "metadata": {},
   "outputs": [],
   "source": []
  }
 ],
 "metadata": {
  "kernelspec": {
   "display_name": "Python 3",
   "language": "python",
   "name": "python3"
  },
  "language_info": {
   "codemirror_mode": {
    "name": "ipython",
    "version": 3
   },
   "file_extension": ".py",
   "mimetype": "text/x-python",
   "name": "python",
   "nbconvert_exporter": "python",
   "pygments_lexer": "ipython3",
   "version": "3.7.0"
  }
 },
 "nbformat": 4,
 "nbformat_minor": 2
}
