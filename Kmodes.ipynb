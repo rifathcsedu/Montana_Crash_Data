{
 "cells": [
  {
   "cell_type": "code",
   "execution_count": 1,
   "metadata": {},
   "outputs": [
    {
     "ename": "ModuleNotFoundError",
     "evalue": "No module named 'kmodes'",
     "output_type": "error",
     "traceback": [
      "\u001b[0;31m---------------------------------------------------------------------------\u001b[0m",
      "\u001b[0;31mModuleNotFoundError\u001b[0m                       Traceback (most recent call last)",
      "\u001b[0;32m<ipython-input-1-02e7890d991c>\u001b[0m in \u001b[0;36m<module>\u001b[0;34m\u001b[0m\n\u001b[1;32m      4\u001b[0m \u001b[0;32mimport\u001b[0m \u001b[0mpandas\u001b[0m \u001b[0;32mas\u001b[0m \u001b[0mpd\u001b[0m\u001b[0;34m\u001b[0m\u001b[0m\n\u001b[1;32m      5\u001b[0m \u001b[0;32mimport\u001b[0m \u001b[0mcsv\u001b[0m\u001b[0;34m\u001b[0m\u001b[0m\n\u001b[0;32m----> 6\u001b[0;31m \u001b[0;32mfrom\u001b[0m \u001b[0mkmodes\u001b[0m\u001b[0;34m.\u001b[0m\u001b[0mkmodes\u001b[0m \u001b[0;32mimport\u001b[0m \u001b[0mKModes\u001b[0m\u001b[0;34m\u001b[0m\u001b[0m\n\u001b[0m\u001b[1;32m      7\u001b[0m \u001b[0;34m\u001b[0m\u001b[0m\n\u001b[1;32m      8\u001b[0m \u001b[0;34m\u001b[0m\u001b[0m\n",
      "\u001b[0;31mModuleNotFoundError\u001b[0m: No module named 'kmodes'"
     ]
    }
   ],
   "source": [
    "import numpy as np\n",
    "import matplotlib.pyplot as plt\n",
    "import random\n",
    "import pandas as pd\n",
    "import csv\n",
    "from kmodes.kmodes import KModes\n",
    "\n",
    "\n",
    "county='Madison_Point-2.csv'\n",
    "lats, lons = [], []\n",
    "with open('/Users/usmp/Google Drive/Saidur_Matt_Term_Project/Points_to_Cluster'+county+'.csv') as f:\n",
    "    reader = csv.reader(f)\n",
    "    next(reader) # Ignore the header row.\n",
    "    for row in reader:\n",
    "        lat = float(row[3])\n",
    "        lon = float(row[4])\n",
    "        # filter lat,lons to (approximate) map view:\n",
    "        lats.append( lat )\n",
    "        lons.append( lon )\n",
    "data=[]\n",
    "# random categorical data\n",
    "for i in range(len(lats)):\n",
    "    data.append([lats[i],lons[i]])\n",
    "\n",
    "#print(data)\n",
    "km = KModes(n_clusters=100, init='Huang', n_init=5, verbose=1)\n",
    "\n",
    "clusters = km.fit_predict(data)\n",
    "print(km.cluster_centroids_)\n",
    "lats, lons = [], []\n",
    "\n",
    "print(\"Done\")"
   ]
  },
  {
   "cell_type": "code",
   "execution_count": null,
   "metadata": {},
   "outputs": [],
   "source": []
  },
  {
   "cell_type": "code",
   "execution_count": null,
   "metadata": {},
   "outputs": [],
   "source": []
  }
 ],
 "metadata": {
  "kernelspec": {
   "display_name": "Python 3",
   "language": "python",
   "name": "python3"
  },
  "language_info": {
   "codemirror_mode": {
    "name": "ipython",
    "version": 3
   },
   "file_extension": ".py",
   "mimetype": "text/x-python",
   "name": "python",
   "nbconvert_exporter": "python",
   "pygments_lexer": "ipython3",
   "version": "3.6.6"
  }
 },
 "nbformat": 4,
 "nbformat_minor": 2
}
